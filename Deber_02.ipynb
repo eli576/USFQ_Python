{
  "nbformat": 4,
  "nbformat_minor": 0,
  "metadata": {
    "colab": {
      "provenance": [],
      "authorship_tag": "ABX9TyPVccd1Et/CVCVF+hZXR1Fr",
      "include_colab_link": true
    },
    "kernelspec": {
      "name": "python3",
      "display_name": "Python 3"
    },
    "language_info": {
      "name": "python"
    }
  },
  "cells": [
    {
      "cell_type": "markdown",
      "metadata": {
        "id": "view-in-github",
        "colab_type": "text"
      },
      "source": [
        "<a href=\"https://colab.research.google.com/github/eli576/USFQ_Python/blob/main/Deber_02.ipynb\" target=\"_parent\"><img src=\"https://colab.research.google.com/assets/colab-badge.svg\" alt=\"Open In Colab\"/></a>"
      ]
    },
    {
      "cell_type": "code",
      "execution_count": null,
      "metadata": {
        "id": "vw5cnHxvzlsi"
      },
      "outputs": [],
      "source": [
        "#Restricciones:\n",
        "#Sólo se permite el uso de variables y condicionales (if, elif, else)"
      ]
    },
    {
      "cell_type": "code",
      "source": [
        "#Pida al usuario que ingrese tres números enteros.\n",
        "num_1 = int(input(\"Ingresa un numero entero: \"))\n",
        "num_2 = int(input(\"Ingresa otro numero entero: \"))\n",
        "num_3 = int(input(\"Ingresa otro numero entero: \"))\n",
        "\n",
        "#opciónes de orden\n",
        "#1,2,3\n",
        "#2,3,1\n",
        "#3,1,2\n",
        "#1,3,2\n",
        "#2,1,3\n",
        "#3,2,1"
      ],
      "metadata": {
        "colab": {
          "base_uri": "https://localhost:8080/"
        },
        "id": "C5n_rXAFzsBJ",
        "outputId": "91ad566d-d191-4c15-cb0b-369191724469"
      },
      "execution_count": 7,
      "outputs": [
        {
          "name": "stdout",
          "output_type": "stream",
          "text": [
            "Ingresa un numero entero: 2\n",
            "Ingresa otro numero entero: 2\n",
            "Ingresa otro numero entero: 400\n"
          ]
        }
      ]
    },
    {
      "cell_type": "code",
      "source": [
        "#Imprima los números en orden ascendente (de menor a mayor).\n",
        "if num_1 <= num_2 and num_2 <= num_3:\n",
        "  print(num_1, num_2, num_3)\n",
        "elif num_2 <= num_3 and num_3 <= num_1:\n",
        "  print(num_2, num_3, num_1)\n",
        "elif num_3 <= num_1 and num_1 <= num_2:\n",
        "  print(num_3, num_1, num_2)\n",
        "elif num_1 <= num_3 and num_3 <= num_2:\n",
        "  print(num_1, num_3, num_2)\n",
        "elif num_2 <= num_1 and num_1 <= num_3:\n",
        "  print(num_2, num_1, num_3)\n",
        "else:\n",
        "  print(num_3, num_2, num_1)"
      ],
      "metadata": {
        "colab": {
          "base_uri": "https://localhost:8080/"
        },
        "id": "lefBbeOSzuop",
        "outputId": "84967469-86d4-4ac2-a27d-f24113de4356"
      },
      "execution_count": 8,
      "outputs": [
        {
          "output_type": "stream",
          "name": "stdout",
          "text": [
            "2 2 400\n"
          ]
        }
      ]
    },
    {
      "cell_type": "code",
      "source": [
        "# Alternativa más sencilla (creado con IA)\n",
        "\n",
        "# Asegura que num_1 es menor que num_2 (si es mayor, cambia los dos)\n",
        "if num_1 > num_2:\n",
        "    temp = num_1\n",
        "    num_1 = num_2\n",
        "    num_2 = temp\n",
        "\n",
        "# Asegura que num_1 es menor que num_3\n",
        "if num_1 > num_3:\n",
        "    temp = num_1\n",
        "    num_1 = num_3\n",
        "    num_3 = temp\n",
        "\n",
        "# Asegura que num_2 es menor que num_3\n",
        "if num_2 > num_3:\n",
        "    temp = num_2\n",
        "    num_2 = num_3\n",
        "    num_3 = temp\n",
        "\n",
        "print(f\"Los números en orden ascendente son: {num_1}, {num_2}, {num_3}\")"
      ],
      "metadata": {
        "colab": {
          "base_uri": "https://localhost:8080/"
        },
        "id": "pIXuxQZ552Zv",
        "outputId": "2e578b85-749e-42dd-9ebc-94962310a1c4"
      },
      "execution_count": 9,
      "outputs": [
        {
          "output_type": "stream",
          "name": "stdout",
          "text": [
            "Los números en orden ascendente son: 2, 2, 400\n"
          ]
        }
      ]
    }
  ]
}