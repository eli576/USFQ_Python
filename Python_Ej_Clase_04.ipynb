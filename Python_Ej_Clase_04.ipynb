{
  "nbformat": 4,
  "nbformat_minor": 0,
  "metadata": {
    "colab": {
      "provenance": [],
      "authorship_tag": "ABX9TyNVhAaRa1/1t12oDiXe2mbm",
      "include_colab_link": true
    },
    "kernelspec": {
      "name": "python3",
      "display_name": "Python 3"
    },
    "language_info": {
      "name": "python"
    }
  },
  "cells": [
    {
      "cell_type": "markdown",
      "metadata": {
        "id": "view-in-github",
        "colab_type": "text"
      },
      "source": [
        "<a href=\"https://colab.research.google.com/github/eli576/USFQ_Python/blob/main/Python_Ej_Clase_04.ipynb\" target=\"_parent\"><img src=\"https://colab.research.google.com/assets/colab-badge.svg\" alt=\"Open In Colab\"/></a>"
      ]
    },
    {
      "cell_type": "code",
      "execution_count": 1,
      "metadata": {
        "colab": {
          "base_uri": "https://localhost:8080/"
        },
        "id": "KDH5Ehwa_QjV",
        "outputId": "c36e8118-7ad0-4a84-b484-7c628007e52c"
      },
      "outputs": [
        {
          "output_type": "stream",
          "name": "stdout",
          "text": [
            "manzana\n",
            "pera\n"
          ]
        }
      ],
      "source": [
        "#lista de frutas\n",
        "frutas = [\"manzana\", \"banana\", \"cereza\", \"naranja\", \"pera\"]\n",
        "\n",
        "#acceder a elementos de la lista\n",
        "print(frutas[0]) # \"manzana\" (primer elemento)\n",
        "print(frutas[-1]) # ultimo elemento de la lista\n"
      ]
    },
    {
      "cell_type": "code",
      "source": [
        "#modifircar un elemento de la lista\n",
        "frutas[1] = \"sandia\"\n",
        "\n",
        "#agregar nuevo elemento\n",
        "frutas.append(\"uva\")\n",
        "\n",
        "#imprimir la lista acutalisada\n",
        "print(frutas)"
      ],
      "metadata": {
        "colab": {
          "base_uri": "https://localhost:8080/"
        },
        "id": "Pkr2Idfa_zVn",
        "outputId": "3e3d33f4-8e51-4be2-cfc5-7ae56348e75b"
      },
      "execution_count": 2,
      "outputs": [
        {
          "output_type": "stream",
          "name": "stdout",
          "text": [
            "['manzana', 'sandia', 'cereza', 'naranja', 'pera', 'uva']\n"
          ]
        }
      ]
    },
    {
      "cell_type": "markdown",
      "source": [
        "Ejercicio 1: crea una lista con los nombres de 5 paises"
      ],
      "metadata": {
        "id": "TWV6O3UlAY9j"
      }
    },
    {
      "cell_type": "code",
      "source": [
        "#lista de paises\n",
        "paises = [\"ecuador\", \"alemania\", \"inglaterra\", \"francia\", \"españa\"]\n",
        "print(paises [0])\n",
        "print(paises[-1])\n"
      ],
      "metadata": {
        "colab": {
          "base_uri": "https://localhost:8080/"
        },
        "id": "2rYAhwEcAdN1",
        "outputId": "4e204fdf-28b8-4c5d-b576-53d2036644be"
      },
      "execution_count": 4,
      "outputs": [
        {
          "output_type": "stream",
          "name": "stdout",
          "text": [
            "ecuador\n",
            "españa\n"
          ]
        }
      ]
    },
    {
      "cell_type": "code",
      "source": [
        "#splicing\n",
        "#al reves\n",
        "palabra = \"holaholahola\"\n",
        "print(palabra[::-1])"
      ],
      "metadata": {
        "colab": {
          "base_uri": "https://localhost:8080/"
        },
        "id": "vLVIZ644CTAt",
        "outputId": "21fae228-2d73-4a73-f3b0-3db6fc5c7c6b"
      },
      "execution_count": 6,
      "outputs": [
        {
          "output_type": "stream",
          "name": "stdout",
          "text": [
            "alohalohaloh\n"
          ]
        }
      ]
    },
    {
      "cell_type": "code",
      "source": [
        "for x in paises:\n",
        "  print(\"uno de los paises es:\", x)"
      ],
      "metadata": {
        "colab": {
          "base_uri": "https://localhost:8080/"
        },
        "id": "rQeCErodCnF0",
        "outputId": "1890cb57-0c65-42df-dc60-0c6aafff2f2d"
      },
      "execution_count": 7,
      "outputs": [
        {
          "output_type": "stream",
          "name": "stdout",
          "text": [
            "uno de los paises es: ecuador\n",
            "uno de los paises es: alemania\n",
            "uno de los paises es: inglaterra\n",
            "uno de los paises es: francia\n",
            "uno de los paises es: españa\n"
          ]
        }
      ]
    },
    {
      "cell_type": "code",
      "source": [
        "print(paises[0][0])"
      ],
      "metadata": {
        "colab": {
          "base_uri": "https://localhost:8080/"
        },
        "id": "c3HakNsqDM4g",
        "outputId": "a77e784d-43e6-4ab3-c434-0f573be8afcf"
      },
      "execution_count": 8,
      "outputs": [
        {
          "output_type": "stream",
          "name": "stdout",
          "text": [
            "e\n"
          ]
        }
      ]
    },
    {
      "cell_type": "code",
      "source": [
        "numeros = [3,7, 10, 15, 20]\n",
        "for num in numeros:\n",
        "  print(\"el numero:\", num.double())"
      ],
      "metadata": {
        "colab": {
          "base_uri": "https://localhost:8080/",
          "height": 176
        },
        "id": "BgV6X58sD3L8",
        "outputId": "c5d04c91-51ab-42b8-84e0-db0958fd28df"
      },
      "execution_count": 10,
      "outputs": [
        {
          "output_type": "error",
          "ename": "AttributeError",
          "evalue": "'int' object has no attribute 'double'",
          "traceback": [
            "\u001b[0;31m---------------------------------------------------------------------------\u001b[0m",
            "\u001b[0;31mAttributeError\u001b[0m                            Traceback (most recent call last)",
            "\u001b[0;32m/tmp/ipython-input-883997260.py\u001b[0m in \u001b[0;36m<cell line: 0>\u001b[0;34m()\u001b[0m\n\u001b[1;32m      1\u001b[0m \u001b[0mnumeros\u001b[0m \u001b[0;34m=\u001b[0m \u001b[0;34m[\u001b[0m\u001b[0;36m3\u001b[0m\u001b[0;34m,\u001b[0m\u001b[0;36m7\u001b[0m\u001b[0;34m,\u001b[0m \u001b[0;36m10\u001b[0m\u001b[0;34m,\u001b[0m \u001b[0;36m15\u001b[0m\u001b[0;34m,\u001b[0m \u001b[0;36m20\u001b[0m\u001b[0;34m]\u001b[0m\u001b[0;34m\u001b[0m\u001b[0;34m\u001b[0m\u001b[0m\n\u001b[1;32m      2\u001b[0m \u001b[0;32mfor\u001b[0m \u001b[0mnum\u001b[0m \u001b[0;32min\u001b[0m \u001b[0mnumeros\u001b[0m\u001b[0;34m:\u001b[0m\u001b[0;34m\u001b[0m\u001b[0;34m\u001b[0m\u001b[0m\n\u001b[0;32m----> 3\u001b[0;31m   \u001b[0mprint\u001b[0m\u001b[0;34m(\u001b[0m\u001b[0;34m\"el numero:\"\u001b[0m\u001b[0;34m,\u001b[0m \u001b[0mnum\u001b[0m\u001b[0;34m.\u001b[0m\u001b[0mdouble\u001b[0m\u001b[0;34m(\u001b[0m\u001b[0;34m)\u001b[0m\u001b[0;34m)\u001b[0m\u001b[0;34m\u001b[0m\u001b[0;34m\u001b[0m\u001b[0m\n\u001b[0m",
            "\u001b[0;31mAttributeError\u001b[0m: 'int' object has no attribute 'double'"
          ]
        }
      ]
    },
    {
      "cell_type": "code",
      "source": [
        "numeros = 2, 4, 6, 8\n",
        "dobles []\n",
        "for nimin numeros:\n",
        "    dobles. append"
      ],
      "metadata": {
        "id": "amWsMfdZEsrw"
      },
      "execution_count": null,
      "outputs": []
    },
    {
      "cell_type": "code",
      "source": [
        "numeros = [3, 7, 10, 15, 20, 22, 30]\n",
        "pares = []\n",
        "for num in numeros:\n",
        "  if num%2 == 0:\n",
        "    pares.append(num)\n",
        "    print(pares)\n",
        "  else:\n",
        "    print (\"error\")"
      ],
      "metadata": {
        "colab": {
          "base_uri": "https://localhost:8080/"
        },
        "id": "hJ0efxf5FR1S",
        "outputId": "8fd86818-deef-44c9-fcf1-2a3b90dbd1b1"
      },
      "execution_count": 20,
      "outputs": [
        {
          "output_type": "stream",
          "name": "stdout",
          "text": [
            "error\n",
            "error\n",
            "[10]\n",
            "error\n",
            "[10, 20]\n",
            "[10, 20, 22]\n",
            "[10, 20, 22, 30]\n"
          ]
        }
      ]
    },
    {
      "cell_type": "code",
      "source": [
        "numeros2 = [35, 60 ,80, 45 ,95 , 70]\n",
        "mayor = []\n",
        "for num in numeros2:\n",
        "  if num>50:\n",
        "    numeros2.drop()"
      ],
      "metadata": {
        "colab": {
          "base_uri": "https://localhost:8080/",
          "height": 176
        },
        "id": "Rb2avEjdHGZE",
        "outputId": "9dc8dca9-3af4-41f8-9a25-018470fd3c30"
      },
      "execution_count": 24,
      "outputs": [
        {
          "output_type": "error",
          "ename": "AttributeError",
          "evalue": "'list' object has no attribute 'drop'",
          "traceback": [
            "\u001b[0;31m---------------------------------------------------------------------------\u001b[0m",
            "\u001b[0;31mAttributeError\u001b[0m                            Traceback (most recent call last)",
            "\u001b[0;32m/tmp/ipython-input-1947840052.py\u001b[0m in \u001b[0;36m<cell line: 0>\u001b[0;34m()\u001b[0m\n\u001b[1;32m      3\u001b[0m \u001b[0;32mfor\u001b[0m \u001b[0mnum\u001b[0m \u001b[0;32min\u001b[0m \u001b[0mnumeros2\u001b[0m\u001b[0;34m:\u001b[0m\u001b[0;34m\u001b[0m\u001b[0;34m\u001b[0m\u001b[0m\n\u001b[1;32m      4\u001b[0m   \u001b[0;32mif\u001b[0m \u001b[0mnum\u001b[0m\u001b[0;34m>\u001b[0m\u001b[0;36m50\u001b[0m\u001b[0;34m:\u001b[0m\u001b[0;34m\u001b[0m\u001b[0;34m\u001b[0m\u001b[0m\n\u001b[0;32m----> 5\u001b[0;31m     \u001b[0mnumeros2\u001b[0m\u001b[0;34m.\u001b[0m\u001b[0mdrop\u001b[0m\u001b[0;34m(\u001b[0m\u001b[0;34m)\u001b[0m\u001b[0;34m\u001b[0m\u001b[0;34m\u001b[0m\u001b[0m\n\u001b[0m",
            "\u001b[0;31mAttributeError\u001b[0m: 'list' object has no attribute 'drop'"
          ]
        }
      ]
    },
    {
      "cell_type": "code",
      "source": [
        "palabras = [\"sol\", \"manana\", \"cielo\", \"rio\", \"laguna\"]\n",
        "contador = 0\n",
        "for palabra in palabras:\n",
        "  if len(palabra) > 4:\n",
        "    contador +=1\n",
        "#contador = contador = 1\n",
        "#o econtador += 1"
      ],
      "metadata": {
        "id": "tTCkp6gNIIS9"
      },
      "execution_count": 26,
      "outputs": []
    },
    {
      "cell_type": "code",
      "source": [
        "num = [12, 8, 95, 43, 23, 54, 17, 15, 60, 36]\n",
        "mult3 = []\n",
        "mult4 = []\n",
        "mult5 = []\n",
        "mutt = []\n",
        "\n",
        "for num in num:\n",
        "  if num%3 == 0:\n",
        "    mult3.append(num)\n",
        "  if num%4 == 0:\n",
        "    mult4.append(num)\n",
        "  if num%5 == 0:\n",
        "    mult5.append(num)\n",
        "  if num%3 != 0 and num%4 != 0 and num%5!=0:\n",
        "    mutt.append(num)\n",
        "print (mult3, mult4, mult5, mutt)"
      ],
      "metadata": {
        "colab": {
          "base_uri": "https://localhost:8080/"
        },
        "id": "vk-kCYXdJLaT",
        "outputId": "2131a9e3-597a-4fe7-d1ae-52a8a40d5dca"
      },
      "execution_count": 34,
      "outputs": [
        {
          "output_type": "stream",
          "name": "stdout",
          "text": [
            "[12, 54, 15, 60, 36] [12, 8, 60, 36] [95, 15, 60] [43, 23, 17]\n"
          ]
        }
      ]
    },
    {
      "cell_type": "code",
      "source": [
        "lista = range(1,101)\n",
        "print(lista)\n",
        "\n",
        "for x in range(0,101,5):\n",
        "  print(x)"
      ],
      "metadata": {
        "colab": {
          "base_uri": "https://localhost:8080/"
        },
        "id": "eonxKHjJHYFY",
        "outputId": "a20c3b49-c919-495f-a8a7-f6cae440d45e"
      },
      "execution_count": 42,
      "outputs": [
        {
          "output_type": "stream",
          "name": "stdout",
          "text": [
            "range(1, 101)\n",
            "0\n",
            "5\n",
            "10\n",
            "15\n",
            "20\n",
            "25\n",
            "30\n",
            "35\n",
            "40\n",
            "45\n",
            "50\n",
            "55\n",
            "60\n",
            "65\n",
            "70\n",
            "75\n",
            "80\n",
            "85\n",
            "90\n",
            "95\n",
            "100\n"
          ]
        }
      ]
    },
    {
      "cell_type": "code",
      "source": [],
      "metadata": {
        "id": "-7X1zpkzLM2N"
      },
      "execution_count": null,
      "outputs": []
    }
  ]
}