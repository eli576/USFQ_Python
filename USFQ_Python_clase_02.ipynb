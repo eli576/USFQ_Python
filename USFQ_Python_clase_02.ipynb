{
  "nbformat": 4,
  "nbformat_minor": 0,
  "metadata": {
    "colab": {
      "provenance": [],
      "authorship_tag": "ABX9TyOE0ZmaC90qMrrrX1GDpTqX",
      "include_colab_link": true
    },
    "kernelspec": {
      "name": "python3",
      "display_name": "Python 3"
    },
    "language_info": {
      "name": "python"
    }
  },
  "cells": [
    {
      "cell_type": "markdown",
      "metadata": {
        "id": "view-in-github",
        "colab_type": "text"
      },
      "source": [
        "<a href=\"https://colab.research.google.com/github/eli576/USFQ_Python/blob/main/USFQ_Python_clase_02.ipynb\" target=\"_parent\"><img src=\"https://colab.research.google.com/assets/colab-badge.svg\" alt=\"Open In Colab\"/></a>"
      ]
    },
    {
      "cell_type": "code",
      "execution_count": null,
      "metadata": {
        "colab": {
          "base_uri": "https://localhost:8080/"
        },
        "id": "lcVOijaAImpZ",
        "outputId": "246fff75-014c-4f79-8f42-f7d588675501"
      },
      "outputs": [
        {
          "output_type": "execute_result",
          "data": {
            "text/plain": [
              "str"
            ]
          },
          "metadata": {},
          "execution_count": 1
        }
      ],
      "source": [
        "type(\"Hello\") #cadena de caracteres"
      ]
    },
    {
      "cell_type": "code",
      "source": [
        "type(3.2)"
      ],
      "metadata": {
        "colab": {
          "base_uri": "https://localhost:8080/"
        },
        "id": "LLKKvD7cJqCA",
        "outputId": "4f278fcb-91cb-4f74-edd4-bf140836947d"
      },
      "execution_count": null,
      "outputs": [
        {
          "output_type": "execute_result",
          "data": {
            "text/plain": [
              "float"
            ]
          },
          "metadata": {},
          "execution_count": 2
        }
      ]
    },
    {
      "cell_type": "code",
      "source": [
        "type(3)"
      ],
      "metadata": {
        "colab": {
          "base_uri": "https://localhost:8080/"
        },
        "id": "25K-rZccJuHR",
        "outputId": "f8e0e8be-3486-42b8-8138-f9b44b425293"
      },
      "execution_count": null,
      "outputs": [
        {
          "output_type": "execute_result",
          "data": {
            "text/plain": [
              "int"
            ]
          },
          "metadata": {},
          "execution_count": 3
        }
      ]
    },
    {
      "cell_type": "code",
      "source": [
        "type(True)"
      ],
      "metadata": {
        "colab": {
          "base_uri": "https://localhost:8080/"
        },
        "id": "KUWeQmluJziA",
        "outputId": "c9eab173-7120-432f-ceda-56d0103b0aac"
      },
      "execution_count": null,
      "outputs": [
        {
          "output_type": "execute_result",
          "data": {
            "text/plain": [
              "bool"
            ]
          },
          "metadata": {},
          "execution_count": 4
        }
      ]
    },
    {
      "cell_type": "code",
      "source": [
        "True = 2.17\n",
        "print(True)"
      ],
      "metadata": {
        "colab": {
          "base_uri": "https://localhost:8080/",
          "height": 106
        },
        "id": "kkT4sIYeKw_B",
        "outputId": "db1c95dc-6ad7-4aff-be8e-715b7d24f35d"
      },
      "execution_count": null,
      "outputs": [
        {
          "output_type": "error",
          "ename": "SyntaxError",
          "evalue": "cannot assign to True (ipython-input-3906342003.py, line 1)",
          "traceback": [
            "\u001b[0;36m  File \u001b[0;32m\"/tmp/ipython-input-3906342003.py\"\u001b[0;36m, line \u001b[0;32m1\u001b[0m\n\u001b[0;31m    True = 2.17\u001b[0m\n\u001b[0m    ^\u001b[0m\n\u001b[0;31mSyntaxError\u001b[0m\u001b[0;31m:\u001b[0m cannot assign to True\n"
          ]
        }
      ]
    },
    {
      "cell_type": "code",
      "source": [
        "word = \"USFQ\""
      ],
      "metadata": {
        "id": "PZUu0FBaNtu9"
      },
      "execution_count": null,
      "outputs": []
    },
    {
      "cell_type": "code",
      "source": [
        "print(word[-5])"
      ],
      "metadata": {
        "colab": {
          "base_uri": "https://localhost:8080/",
          "height": 141
        },
        "id": "BJcPsD7dNwKr",
        "outputId": "5273fa61-7752-4df6-c705-b13f5b0ee065"
      },
      "execution_count": null,
      "outputs": [
        {
          "output_type": "error",
          "ename": "IndexError",
          "evalue": "string index out of range",
          "traceback": [
            "\u001b[0;31m---------------------------------------------------------------------------\u001b[0m",
            "\u001b[0;31mIndexError\u001b[0m                                Traceback (most recent call last)",
            "\u001b[0;32m/tmp/ipython-input-2327237229.py\u001b[0m in \u001b[0;36m<cell line: 0>\u001b[0;34m()\u001b[0m\n\u001b[0;32m----> 1\u001b[0;31m \u001b[0mprint\u001b[0m\u001b[0;34m(\u001b[0m\u001b[0mword\u001b[0m\u001b[0;34m[\u001b[0m\u001b[0;34m-\u001b[0m\u001b[0;36m5\u001b[0m\u001b[0;34m]\u001b[0m\u001b[0;34m)\u001b[0m\u001b[0;34m\u001b[0m\u001b[0;34m\u001b[0m\u001b[0m\n\u001b[0m",
            "\u001b[0;31mIndexError\u001b[0m: string index out of range"
          ]
        }
      ]
    },
    {
      "cell_type": "code",
      "source": [
        "name = \"otorrinolaringologia\"\n",
        "print(len((name)))\n"
      ],
      "metadata": {
        "colab": {
          "base_uri": "https://localhost:8080/"
        },
        "id": "Gi3vhy4NO7JP",
        "outputId": "b239c2d3-65b9-41e2-e17c-e5df942ab4f4"
      },
      "execution_count": null,
      "outputs": [
        {
          "output_type": "stream",
          "name": "stdout",
          "text": [
            "20\n"
          ]
        }
      ]
    },
    {
      "cell_type": "code",
      "source": [
        "#enctontrar la segunda letra l con find\n",
        "word2 = \"hello\"\n",
        "print(word2[3])"
      ],
      "metadata": {
        "colab": {
          "base_uri": "https://localhost:8080/"
        },
        "id": "kV26yjREQqct",
        "outputId": "3c58264f-37f9-4e4e-8528-5e3a0de8ef6a"
      },
      "execution_count": null,
      "outputs": [
        {
          "output_type": "stream",
          "name": "stdout",
          "text": [
            "l\n"
          ]
        }
      ]
    },
    {
      "cell_type": "code",
      "source": [
        "word2.find(\"l\")"
      ],
      "metadata": {
        "colab": {
          "base_uri": "https://localhost:8080/"
        },
        "id": "k2kCF_KlRRVJ",
        "outputId": "086d339e-7244-4751-d66a-276981342646"
      },
      "execution_count": null,
      "outputs": [
        {
          "output_type": "execute_result",
          "data": {
            "text/plain": [
              "2"
            ]
          },
          "metadata": {},
          "execution_count": 17
        }
      ]
    },
    {
      "cell_type": "code",
      "source": [
        "word2.find(word2[1])"
      ],
      "metadata": {
        "colab": {
          "base_uri": "https://localhost:8080/"
        },
        "id": "RDEv3d7wRVdl",
        "outputId": "a21ef40a-a24a-4934-dc35-ca1497738cde"
      },
      "execution_count": null,
      "outputs": [
        {
          "output_type": "execute_result",
          "data": {
            "text/plain": [
              "1"
            ]
          },
          "metadata": {},
          "execution_count": 21
        }
      ]
    },
    {
      "cell_type": "code",
      "source": [
        "word2[].find(\"l\")"
      ],
      "metadata": {
        "colab": {
          "base_uri": "https://localhost:8080/"
        },
        "id": "FvmlmptSR9PP",
        "outputId": "6e080a40-3b1f-48c9-9fee-e8ab29960fae"
      },
      "execution_count": null,
      "outputs": [
        {
          "output_type": "execute_result",
          "data": {
            "text/plain": [
              "-1"
            ]
          },
          "metadata": {},
          "execution_count": 28
        }
      ]
    },
    {
      "cell_type": "code",
      "source": [
        "cadena = \"hello\"\n",
        "x = \"hello\".find(\"l\")\n",
        "print(x)\n",
        "#ahora encontre el primer l, en posicion 2\n",
        "aux = cadena [x+1:]\n",
        "print(aux)\n",
        "y = aux.find(\"l\")\n",
        "print(y)\n",
        "posfinal = x + y + 1\n",
        "print(posfinal)\n",
        "#while o for\n",
        "#usar un while o for en casa para encontrar la quarta, quinta letra etc."
      ],
      "metadata": {
        "colab": {
          "base_uri": "https://localhost:8080/"
        },
        "id": "x4R2f5noSvap",
        "outputId": "3d995edf-52f8-4345-e72c-e1b12e14f3c3"
      },
      "execution_count": null,
      "outputs": [
        {
          "output_type": "stream",
          "name": "stdout",
          "text": [
            "2\n",
            "lo\n",
            "0\n",
            "3\n"
          ]
        }
      ]
    },
    {
      "cell_type": "code",
      "source": [
        "cadena2 = \"otorrinolaringologia\"\n",
        "counter = 0\n",
        "#where is the fourth o\n",
        "while counter < 4 or counter == 4:\n",
        "  counter = counter +1\n",
        "  x = cadena2.find(\"o\")\n",
        "  aux = cadena2 [x+1:]\n",
        "  print(aux)\n",
        "  y = aux.find(\"o\")\n",
        "  print(y)\n",
        "  posfinal = x + y + 1\n",
        "  print(posfinal)\n"
      ],
      "metadata": {
        "id": "0XTMWhV4Tn38",
        "colab": {
          "base_uri": "https://localhost:8080/"
        },
        "outputId": "4cfe97ee-076a-493f-93ce-757a9e62466a"
      },
      "execution_count": null,
      "outputs": [
        {
          "output_type": "stream",
          "name": "stdout",
          "text": [
            "torrinolaringologia\n",
            "1\n",
            "2\n",
            "torrinolaringologia\n",
            "1\n",
            "2\n",
            "torrinolaringologia\n",
            "1\n",
            "2\n",
            "torrinolaringologia\n",
            "1\n",
            "2\n",
            "torrinolaringologia\n",
            "1\n",
            "2\n"
          ]
        }
      ]
    },
    {
      "cell_type": "code",
      "source": [
        "name = input(\"Que estas comprando? \").upper()\n",
        "price = float(input(\"Cual es el precio de una unidad? \"))\n",
        "quantity = int(input(\"Cuantas unidades quieres comprar? \"))\n",
        "\n",
        "cost = price*quantity\n",
        "\n",
        "print(f\"Tu selecionaste {quantity} {name} de ${price} cada uno. \\nEl precio total es: ${cost}\")"
      ],
      "metadata": {
        "colab": {
          "base_uri": "https://localhost:8080/"
        },
        "id": "izNMgIk9V7e2",
        "outputId": "bc431cf2-438d-4fc1-8ca4-2b8980c12260"
      },
      "execution_count": null,
      "outputs": [
        {
          "output_type": "stream",
          "name": "stdout",
          "text": [
            "Que estas comprando? manzanas\n",
            "Cual es el precio de una unidad? 0.34\n",
            "Cuantas unidades quieres comprar? 100\n",
            "Tu selecionaste 100 MANZANAS de $0.34 cada uno. \n",
            "El precio total es: $34.0\n"
          ]
        }
      ]
    },
    {
      "cell_type": "code",
      "source": [],
      "metadata": {
        "id": "ChbV4AEAXiDm"
      },
      "execution_count": null,
      "outputs": []
    }
  ]
}