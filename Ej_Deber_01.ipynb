{
  "nbformat": 4,
  "nbformat_minor": 0,
  "metadata": {
    "colab": {
      "provenance": [],
      "authorship_tag": "ABX9TyOmJH5znWumH/1xNqWoFEOa",
      "include_colab_link": true
    },
    "kernelspec": {
      "name": "python3",
      "display_name": "Python 3"
    },
    "language_info": {
      "name": "python"
    }
  },
  "cells": [
    {
      "cell_type": "markdown",
      "metadata": {
        "id": "view-in-github",
        "colab_type": "text"
      },
      "source": [
        "<a href=\"https://colab.research.google.com/github/eli576/USFQ_Python/blob/main/Ej_Deber_01.ipynb\" target=\"_parent\"><img src=\"https://colab.research.google.com/assets/colab-badge.svg\" alt=\"Open In Colab\"/></a>"
      ]
    },
    {
      "cell_type": "code",
      "execution_count": 9,
      "metadata": {
        "id": "qMXVfNaIcs49",
        "colab": {
          "base_uri": "https://localhost:8080/"
        },
        "outputId": "6acbb9e2-a414-455e-f445-86bdbd45dc35"
      },
      "outputs": [
        {
          "name": "stdout",
          "output_type": "stream",
          "text": [
            "Por favor, ingresa la letra correspondiente a la figura cuya área quieres calcular \n",
            "círculo: A \n",
            "cuadrado: B \n",
            "rectángulo: C \n",
            "triángulo: D \n",
            "B\n"
          ]
        }
      ],
      "source": [
        "figura = input(\"Por favor, ingresa la letra correspondiente a la figura cuya área quieres calcular \\ncírculo: A \\ncuadrado: B \\nrectángulo: C \\ntriángulo: D \\n\")\n"
      ]
    },
    {
      "cell_type": "code",
      "source": [
        "if figura == 'A':\n",
        "  radio = float(input(\"Ingresa el radio del círculo en centímetros: \"))\n",
        "  area = 3.14159265359 * radio ** 2\n",
        "  print(\"El área de tu figura es\", area, \"centímetros.\")\n",
        "elif figura == 'B':\n",
        "  longitud = float(input(\"Ingresa la longitud del lado del cuadrado en centímetros: \"))\n",
        "  area = longitud * longitud\n",
        "  print(\"El área de tu figura es\", area, \"centímetros.\")\n",
        "elif figura == 'C':\n",
        "  base = float(input(\"Ingresa la base del rectángulo en centímetros: \"))\n",
        "  altura = float(input(\"Ingresa la altura del rectángulo en centímetros: \"))\n",
        "  area = base * altura\n",
        "  print(\"El área de tu figura es\", area, \"centímetros.\")\n",
        "elif figura == 'D':\n",
        "  base = float(input(\"Ingresa la base del triángulo en centímetros: \"))\n",
        "  altura = float(input(\"Ingresa la altura del triángulo en centímetros: \"))\n",
        "  area = (base * altura) / 2\n",
        "  print(\"El área de tu figura es\", area, \"centímetros.\")\n",
        "else:\n",
        "  print(\"Input no válida, por favor inténtalo de nuevo\")"
      ],
      "metadata": {
        "colab": {
          "base_uri": "https://localhost:8080/"
        },
        "id": "YaGBuhkXEvKk",
        "outputId": "f216dcc1-d9db-4892-8ea8-a7e5be0cbceb"
      },
      "execution_count": 12,
      "outputs": [
        {
          "output_type": "stream",
          "name": "stdout",
          "text": [
            "Ingresa la longitud del lado del cuadrado en centímetros: 7\n",
            "El área de tu figura es 49.0 centímetros.\n"
          ]
        }
      ]
    }
  ]
}