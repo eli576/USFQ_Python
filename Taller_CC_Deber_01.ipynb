{
  "nbformat": 4,
  "nbformat_minor": 0,
  "metadata": {
    "colab": {
      "provenance": [],
      "authorship_tag": "ABX9TyO55goEwq0RaAVSfXb6OrKj",
      "include_colab_link": true
    },
    "kernelspec": {
      "name": "python3",
      "display_name": "Python 3"
    },
    "language_info": {
      "name": "python"
    }
  },
  "cells": [
    {
      "cell_type": "markdown",
      "metadata": {
        "id": "view-in-github",
        "colab_type": "text"
      },
      "source": [
        "<a href=\"https://colab.research.google.com/github/eli576/USFQ_Python/blob/main/Taller_CC_Deber_01.ipynb\" target=\"_parent\"><img src=\"https://colab.research.google.com/assets/colab-badge.svg\" alt=\"Open In Colab\"/></a>"
      ]
    },
    {
      "cell_type": "code",
      "execution_count": 4,
      "metadata": {
        "colab": {
          "base_uri": "https://localhost:8080/"
        },
        "id": "ToLavmAgNFLF",
        "outputId": "ec777d01-62d3-4d50-9bbd-966fda7557d9"
      },
      "outputs": [
        {
          "output_type": "stream",
          "name": "stdout",
          "text": [
            "¿En qué unidad (C, F o K) está la temperatura que desea convertir? c\n",
            "¿A qué unidad (C, F o K) desea convertir? f\n",
            "Ingrese el valor de la temperatura: 45\n",
            "Su unidad original es: C \n",
            "Su unidad de destino es: F \n",
            "El nuevo valor de su temperatura es: 113.0\n"
          ]
        }
      ],
      "source": [
        "#1. Preguntar a la usuaria: ¿En qué unidad está la temperatura que desea convertir? (Las posibles respuestas son \"C\", \"F\" o \"K\").\n",
        "unidad_original = str(input(\"¿En qué unidad (C, F o K) está la temperatura que desea convertir? \")).upper()\n",
        "\n",
        "#2. Preguntar a la usuaria: ¿A qué unidad desea convertir? (Las posibles respuestas son \"C\", \"F\" o \"K\").\n",
        "unidad_nueva = str(input(\"¿A qué unidad (C, F o K) desea convertir? \")).upper()\n",
        "\n",
        "#3. Solicitar el valor de la temperatura que desea convertir.\n",
        "temperatura_original = float(input(\"Ingrese el valor de la temperatura: \"))\n",
        "\n",
        "#4. Realizar la conversión\n",
        "if unidad_original == \"C\" and unidad_nueva == \"F\":\n",
        "    temperatura_nueva = (temperatura_original * 1.8) + 32\n",
        "elif unidad_original == \"F\" and unidad_nueva == \"C\":\n",
        "    temperatura_nueva = (temperatura_original - 32) / 1.8\n",
        "elif unidad_original == \"C\" and unidad_nueva == \"K\":\n",
        "    temperatura_nueva = temperatura_original  + 273.15\n",
        "elif unidad_original == \"K\" and unidad_nueva == \"C\":\n",
        "    temperatura_nueva = temperatura_original - 273.15\n",
        "elif unidad_original == \"K\" and unidad_nueva == \"F\":\n",
        "    temperatura_nueva = ((temperatura_original - 273.15) * 1.8) + 32\n",
        "elif unidad_original == \"F\" and unidad_nueva == \"K\":\n",
        "    temperatura_nueva = ((temperatura_original - 32) / 1.8) + 273.15\n",
        "else:\n",
        "    print (\"Unidad invalida, intentelo de nuevo\")\n",
        "\n",
        " # 5. Mostrar un mensaje que incluya: la unidad original,la unidad de destino,y el nuevo valor de la temperatura\n",
        "print (\"Su unidad original es:\", unidad_original, \"\\nSu unidad de destino es:\", unidad_nueva, \"\\nEl nuevo valor de su temperatura es:\", temperatura_nueva)"
      ]
    }
  ]
}