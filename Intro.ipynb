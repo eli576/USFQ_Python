{
  "nbformat": 4,
  "nbformat_minor": 0,
  "metadata": {
    "colab": {
      "provenance": [],
      "authorship_tag": "ABX9TyNDAfPgcsrFDUnaV/4NJ9QF",
      "include_colab_link": true
    },
    "kernelspec": {
      "name": "python3",
      "display_name": "Python 3"
    },
    "language_info": {
      "name": "python"
    }
  },
  "cells": [
    {
      "cell_type": "markdown",
      "metadata": {
        "id": "view-in-github",
        "colab_type": "text"
      },
      "source": [
        "<a href=\"https://colab.research.google.com/github/eli576/USFQ_Python/blob/main/Intro.ipynb\" target=\"_parent\"><img src=\"https://colab.research.google.com/assets/colab-badge.svg\" alt=\"Open In Colab\"/></a>"
      ]
    },
    {
      "cell_type": "code",
      "execution_count": null,
      "metadata": {
        "colab": {
          "base_uri": "https://localhost:8080/"
        },
        "id": "EtgbV6Fl4kLn",
        "outputId": "a7435f27-8097-4d55-de44-d52cf50ecb8e"
      },
      "outputs": [
        {
          "output_type": "stream",
          "name": "stdout",
          "text": [
            "Buenos días, elige una figura\n"
          ]
        }
      ],
      "source": [
        "print(\"Buenos días, elige una figura\")"
      ]
    },
    {
      "cell_type": "code",
      "source": [
        "choice = input(type())"
      ],
      "metadata": {
        "id": "iq1hS2B38z1s"
      },
      "execution_count": null,
      "outputs": []
    },
    {
      "cell_type": "code",
      "source": [
        "num = 5\n",
        "num2 = 8\n",
        "sum = num + num2\n",
        "print(f\"{num} + {num2} = {sum}\")"
      ],
      "metadata": {
        "colab": {
          "base_uri": "https://localhost:8080/"
        },
        "id": "e9Te9mr9BlpX",
        "outputId": "1c1e04e5-6871-42dc-8ffa-6703e823fd9e"
      },
      "execution_count": null,
      "outputs": [
        {
          "output_type": "stream",
          "name": "stdout",
          "text": [
            "5 + 8 = 13\n"
          ]
        }
      ]
    },
    {
      "cell_type": "code",
      "source": [
        "print (\"la suma es:\", sum)"
      ],
      "metadata": {
        "colab": {
          "base_uri": "https://localhost:8080/"
        },
        "id": "F-pa34WcCj-7",
        "outputId": "16a0677b-9c1f-421c-9fea-81616ef8a185"
      },
      "execution_count": null,
      "outputs": [
        {
          "output_type": "stream",
          "name": "stdout",
          "text": [
            "la suma es: 13\n"
          ]
        }
      ]
    },
    {
      "cell_type": "code",
      "source": [
        "print(\"la suma es:\", sum, \"\\nla resta es:\", num2 - num)"
      ],
      "metadata": {
        "colab": {
          "base_uri": "https://localhost:8080/"
        },
        "id": "_PmgnC9vDB7w",
        "outputId": "35524fd4-ffa4-4af6-915c-860be59152d8"
      },
      "execution_count": null,
      "outputs": [
        {
          "output_type": "stream",
          "name": "stdout",
          "text": [
            "la suma es: 13 \n",
            "la resta es: 3\n"
          ]
        }
      ]
    },
    {
      "cell_type": "code",
      "source": [
        "#what does modulo mean, el % sign (8%2=0)\n",
        "#what is division entera (//)"
      ],
      "metadata": {
        "id": "43SQ2AE5DeUs"
      },
      "execution_count": null,
      "outputs": []
    },
    {
      "cell_type": "code",
      "source": [
        "num3 = int(input(\"Por favor ingresa un numero:\"))"
      ],
      "metadata": {
        "colab": {
          "base_uri": "https://localhost:8080/"
        },
        "id": "mP473X9YE42I",
        "outputId": "a1651449-38ca-4d25-d2b7-7756e1605097"
      },
      "execution_count": null,
      "outputs": [
        {
          "name": "stdout",
          "output_type": "stream",
          "text": [
            "Por favor ingresa un numero:90\n"
          ]
        }
      ]
    },
    {
      "cell_type": "code",
      "source": [
        "print(\"la suma es:\", str(num) + str(num2))\n",
        "#huh"
      ],
      "metadata": {
        "colab": {
          "base_uri": "https://localhost:8080/"
        },
        "id": "puzSzZqqG9S0",
        "outputId": "b8ab571e-c5c4-40f5-9c2b-56f4b9c3d2ee"
      },
      "execution_count": 14,
      "outputs": [
        {
          "output_type": "stream",
          "name": "stdout",
          "text": [
            "la suma es: 58\n"
          ]
        }
      ]
    },
    {
      "cell_type": "code",
      "source": [
        "num_if = int(input(\"Ingrese num: \"))\n",
        "if num_if > 0:\n",
        "  print(\"El numero es positivo\")\n",
        "elif num_if < 0:\n",
        "  print(\"El numero es negativo\")\n",
        "else:\n",
        "  print(\"El numero es cero\")"
      ],
      "metadata": {
        "colab": {
          "base_uri": "https://localhost:8080/"
        },
        "id": "RcTXC_bkHWqV",
        "outputId": "668cc03e-a58f-42ee-fa9b-fad1eef0b54e"
      },
      "execution_count": 18,
      "outputs": [
        {
          "output_type": "stream",
          "name": "stdout",
          "text": [
            "Ingrese num: 8032\n",
            "El numero es positivo\n"
          ]
        }
      ]
    }
  ]
}