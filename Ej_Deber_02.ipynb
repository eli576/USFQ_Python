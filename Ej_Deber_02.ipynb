{
  "nbformat": 4,
  "nbformat_minor": 0,
  "metadata": {
    "colab": {
      "provenance": [],
      "authorship_tag": "ABX9TyNEd/BTaK55Ys39bUeramUW",
      "include_colab_link": true
    },
    "kernelspec": {
      "name": "python3",
      "display_name": "Python 3"
    },
    "language_info": {
      "name": "python"
    }
  },
  "cells": [
    {
      "cell_type": "markdown",
      "metadata": {
        "id": "view-in-github",
        "colab_type": "text"
      },
      "source": [
        "<a href=\"https://colab.research.google.com/github/eli576/USFQ_Python/blob/main/Ej_Deber_02.ipynb\" target=\"_parent\"><img src=\"https://colab.research.google.com/assets/colab-badge.svg\" alt=\"Open In Colab\"/></a>"
      ]
    },
    {
      "cell_type": "code",
      "execution_count": null,
      "metadata": {
        "id": "vw5cnHxvzlsi"
      },
      "outputs": [],
      "source": [
        "#Restricciones:\n",
        "#Sólo se permite el uso de variables y condicionales (if, elif, else)"
      ]
    },
    {
      "cell_type": "code",
      "source": [
        "#Pida al usuario que ingrese tres números enteros.\n",
        "num_1 = int(input(\"Ingresa un numero entero: \"))\n",
        "num_2 = int(input(\"Ingresa otro numero entero: \"))\n",
        "num_3 = int(input(\"Ingresa otro numero entero: \"))\n",
        "\n",
        "#opciónes de orden\n",
        "#1,2,3\n",
        "#2,3,1\n",
        "#3,1,2\n",
        "#1,3,2\n",
        "#2,1,3\n",
        "#3,2,1"
      ],
      "metadata": {
        "colab": {
          "base_uri": "https://localhost:8080/",
          "height": 0
        },
        "id": "C5n_rXAFzsBJ",
        "outputId": "e093f2df-fad9-4b3b-a7b8-e430a3c351cc"
      },
      "execution_count": 14,
      "outputs": [
        {
          "name": "stdout",
          "output_type": "stream",
          "text": [
            "Ingresa un numero entero: 84953\n",
            "Ingresa otro numero entero: -85\n",
            "Ingresa otro numero entero: 12\n"
          ]
        }
      ]
    },
    {
      "cell_type": "code",
      "source": [
        "#Imprima los números en orden ascendente (de menor a mayor).\n",
        "if num_1 <= num_2 and num_2 <= num_3:\n",
        "  print(num_1, num_2, num_3)\n",
        "elif num_2 <= num_3 and num_3 <= num_1:\n",
        "  print(num_2, num_3, num_1)\n",
        "elif num_3 <= num_1 and num_1 <= num_2:\n",
        "  print(num_3, num_1, num_2)\n",
        "elif num_1 <= num_3 and num_3 <= num_2:\n",
        "  print(num_1, num_3, num_2)\n",
        "elif num_2 <= num_1 and num_1 <= num_3:\n",
        "  print(num_2, num_1, num_3)\n",
        "else:\n",
        "  print(num_3, num_2, num_1)"
      ],
      "metadata": {
        "colab": {
          "base_uri": "https://localhost:8080/",
          "height": 0
        },
        "id": "lefBbeOSzuop",
        "outputId": "12964480-2000-4092-a1ce-a7c455d9eab0"
      },
      "execution_count": 15,
      "outputs": [
        {
          "output_type": "stream",
          "name": "stdout",
          "text": [
            "-85 12 84953\n"
          ]
        }
      ]
    },
    {
      "cell_type": "code",
      "source": [
        "# Alternativa (creado con IA)\n",
        "\n",
        "# Asegura que num_1 es menor que num_2 (si es mayor, cambia los dos)\n",
        "if num_1 > num_2:\n",
        "    temp = num_1\n",
        "    num_1 = num_2\n",
        "    num_2 = temp\n",
        "\n",
        "# Asegura que num_1 es menor que num_3\n",
        "if num_1 > num_3:\n",
        "    temp = num_1\n",
        "    num_1 = num_3\n",
        "    num_3 = temp\n",
        "\n",
        "# Asegura que num_2 es menor que num_3\n",
        "if num_2 > num_3:\n",
        "    temp = num_2\n",
        "    num_2 = num_3\n",
        "    num_3 = temp\n",
        "\n",
        "print(f\"Los números en orden ascendente son: {num_1}, {num_2}, {num_3}\")"
      ],
      "metadata": {
        "colab": {
          "base_uri": "https://localhost:8080/",
          "height": 0
        },
        "id": "pIXuxQZ552Zv",
        "outputId": "53ddd257-0f7d-4f35-ea37-02aa14472a6c"
      },
      "execution_count": 16,
      "outputs": [
        {
          "output_type": "stream",
          "name": "stdout",
          "text": [
            "Los números en orden ascendente son: -85, 12, 84953\n"
          ]
        }
      ]
    }
  ]
}