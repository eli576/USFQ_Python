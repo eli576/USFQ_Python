{
  "nbformat": 4,
  "nbformat_minor": 0,
  "metadata": {
    "colab": {
      "provenance": [],
      "authorship_tag": "ABX9TyNZTaLs/oV/B83rtNYaZuhP",
      "include_colab_link": true
    },
    "kernelspec": {
      "name": "python3",
      "display_name": "Python 3"
    },
    "language_info": {
      "name": "python"
    }
  },
  "cells": [
    {
      "cell_type": "markdown",
      "metadata": {
        "id": "view-in-github",
        "colab_type": "text"
      },
      "source": [
        "<a href=\"https://colab.research.google.com/github/eli576/USFQ_Python/blob/main/Condicionales_y_loops.ipynb\" target=\"_parent\"><img src=\"https://colab.research.google.com/assets/colab-badge.svg\" alt=\"Open In Colab\"/></a>"
      ]
    },
    {
      "cell_type": "code",
      "execution_count": 5,
      "metadata": {
        "colab": {
          "base_uri": "https://localhost:8080/"
        },
        "id": "dttX0wOZ6vpK",
        "outputId": "f66e96b8-ea0e-4fad-a0a1-19ed94f732be"
      },
      "outputs": [
        {
          "output_type": "stream",
          "name": "stdout",
          "text": [
            "Ingresa la contraseña: python\n",
            "Contraseña incorrecta, intenta de nuevo\n",
            "Ingresa la contraseña: Python\n",
            "Bienvenido\n"
          ]
        }
      ],
      "source": [
        "correct_password = \"Python\"\n",
        "user_password = input(\"Ingresa la contraseña: \")\n",
        "\n",
        "if user_password == correct_password:\n",
        "    print(\"Bienvenido\")\n",
        "else:\n",
        "    print(\"Contraseña incorrecta, intenta de nuevo\")\n",
        "\n",
        "#.lower() convierte el input en lowercase (minuscula) para que no importa cual usa el usuario\n",
        "#if user_passw.lower() == correct_password:\n",
        "  #print (\"Felicidades\")\n"
      ]
    },
    {
      "cell_type": "code",
      "source": [
        "choose_password = input(\"Elegir una contraseña: \")\n",
        "user_password2 = input(\"Ingresa la contraseña: \")\n",
        "\n",
        "if user_password2 == choose_password:\n",
        "    print(\"Bienvenido\")\n",
        "else:\n",
        "    print(\"Contraseña incorrecta, intenta de nuevo\")"
      ],
      "metadata": {
        "colab": {
          "base_uri": "https://localhost:8080/"
        },
        "id": "Q8HumWM67g3b",
        "outputId": "2c7a0497-7181-4c4e-fd0d-41cea19a3efc"
      },
      "execution_count": 4,
      "outputs": [
        {
          "output_type": "stream",
          "name": "stdout",
          "text": [
            "Elegir una contraseña: blabla\n",
            "Ingresa la contraseña: blabla#\n",
            "Contraseña incorrecta, intenta de nuevo\n"
          ]
        }
      ]
    },
    {
      "cell_type": "code",
      "source": [
        "#define la contraseña correcta, crea un variable por el input\n",
        "correct_password3 = \"Python\"\n",
        "user_password3 = \" \"\n",
        "\n",
        "#pregunta por la contraseña hasta que esté correcta\n",
        "while user_password3 != correct_password3:\n",
        "    user_password3 = input(\"Ingresa la contraseña: \")\n",
        "    if user_password3 == correct_password3:\n",
        "        print(\"Bienvenido\")\n",
        "    else:\n",
        "        print(\"Contraseña incorrecta, intenta de nuevo\")"
      ],
      "metadata": {
        "colab": {
          "base_uri": "https://localhost:8080/"
        },
        "id": "jyPuleKK8VBL",
        "outputId": "db097872-bd11-43e3-ac48-e4a77f33ea4e"
      },
      "execution_count": 6,
      "outputs": [
        {
          "output_type": "stream",
          "name": "stdout",
          "text": [
            "Ingresa la contraseña: lol\n",
            "Contraseña incorrecta, intenta de nuevo\n",
            "Ingresa la contraseña: Python\n",
            "Bienvenido\n"
          ]
        }
      ]
    },
    {
      "cell_type": "code",
      "source": [
        "choose_password4 = input(\"Elegir una contraseña: \")\n",
        "user_password4 = \"\"\n",
        "\n",
        "while user_password4 != choose_password4:\n",
        "    user_password4 = input(\"Ingresa la contraseña: \")\n",
        "    if user_password4 == choose_password4:\n",
        "        print(\"Bienvenido\")\n",
        "    else:\n",
        "        print(\"Contraseña incorrecta, intenta de nuevo\")"
      ],
      "metadata": {
        "colab": {
          "base_uri": "https://localhost:8080/"
        },
        "id": "FAXH9eb-86QE",
        "outputId": "10b661b5-e76f-4241-95ac-c9f474f80669"
      },
      "execution_count": 7,
      "outputs": [
        {
          "output_type": "stream",
          "name": "stdout",
          "text": [
            "Elegir una contraseña: holahola\n",
            "Ingresa la contraseña: python\n",
            "Contraseña incorrecta, intenta de nuevo\n",
            "Ingresa la contraseña: blabla\n",
            "Contraseña incorrecta, intenta de nuevo\n",
            "Ingresa la contraseña: holahola\n",
            "Bienvenido\n"
          ]
        }
      ]
    },
    {
      "cell_type": "code",
      "source": [
        "grade = float(input(\"Ingresa tu calificación: \"))\n",
        "#convertir el input en float - decimales\n",
        "\n",
        "#validación inicial para ver si el input está en el rango aceptado\n",
        "\n",
        "# no posible hacer esto if 0 <= nota <= 100\n",
        "#juntar dos condiciones simultanéos - operadores lógicos\n",
        "\n",
        "#AND: todas las partes tienen que cumplir a todas condiciones al mismo tiempo\n",
        "#OR: si algo es verdad, todo es verdad\n",
        "\n",
        "if grade <= 100 and grade >= 0:\n",
        "#alternativamente if nota > 100 or nota < 0:\n",
        "#asegurate cual es el número valido\n",
        "\n",
        "  if grade >= 90:\n",
        "      print(\"Felicitaciones, has logrado un A\")\n",
        "  elif grade >= 80:\n",
        "      print(\"Bien hecho, has logrado un B\")\n",
        "  elif grade >= 70:\n",
        "      print(\"Has logrado un C\")\n",
        "  elif grade >= 60:\n",
        "      print(\"Has logrado un D\")\n",
        "  else:\n",
        "      print(\"Has logrado un F, repite\")\n",
        "\n",
        "else:\n",
        "  print(\"Numero fuera de rango\")\n"
      ],
      "metadata": {
        "colab": {
          "base_uri": "https://localhost:8080/"
        },
        "id": "Gzk8YJ4t9XoS",
        "outputId": "4126843a-6c65-41f0-aa80-19cf08b2ab0b"
      },
      "execution_count": 16,
      "outputs": [
        {
          "output_type": "stream",
          "name": "stdout",
          "text": [
            "Ingresa tu calificación: 90.2\n",
            "Felicitaciones, has logrado un A\n"
          ]
        }
      ]
    },
    {
      "cell_type": "code",
      "source": [
        "nota = float(input(\"Ingrese su nota:\"))\n",
        "if nota > 100 or nota < 0:\n",
        "  print (\"Numero fuera de rango\")\n",
        "else:\n",
        "  if nota >=90:\n",
        "    print(\"Su letra es A.\")\n",
        "  elif nota >=80:\n",
        "    print(\"Su letra es B.\")\n",
        "  elif nota >=70:\n",
        "    print(\"Su letra es C.\")\n",
        "  elif nota >=60:\n",
        "    print(\"Su letra es D.\")\n",
        "  else:\n",
        "    print (\"Su letra es F.\")\n",
        "  #con nuevo if - ahora estas empezando neuvo condicional, tiene nada que ver con el antes\n",
        "  if nota >70:\n",
        "    print(\"Aprobo el curso\")\n",
        "  else:\n",
        "    print(\"No aprobo el curse \")\n",
        ""
      ],
      "metadata": {
        "colab": {
          "base_uri": "https://localhost:8080/"
        },
        "id": "kzJ-bZz--QBH",
        "outputId": "91ca87ca-5bd5-42e3-a467-539f664c7eeb"
      },
      "execution_count": 20,
      "outputs": [
        {
          "output_type": "stream",
          "name": "stdout",
          "text": [
            "Ingrese su nota:84.3\n",
            "Su letra es B.\n",
            "Aprobo el curso\n"
          ]
        }
      ]
    },
    {
      "cell_type": "code",
      "source": [
        "numero = int(input(\"Ingresa un numero:\"))\n",
        "\n",
        "if numero%3 == 0:\n",
        "  print(\"Su numero es multiplo de 3\")\n",
        "elif numero%4 == 0:\n",
        "  print(\"Su numero es multiplo de 4\")\n",
        "elif numero%5 == 0:\n",
        "  print(\"Su numero es multiplo de 5\")\n",
        "else:\n",
        "  print (\"su numero no es multiplo de 3,4 o 5\")\n",
        "# que hago si es multiple de varios?\n",
        "# como puedo simplificar esto?\n",
        "\n",
        "#casos que no son mutualmente exclusivas! no funciona el elif en este caso\n",
        "\n"
      ],
      "metadata": {
        "colab": {
          "base_uri": "https://localhost:8080/"
        },
        "id": "76v71Ne7Cxi5",
        "outputId": "f7301cd0-c973-43f4-f3e5-cffcf0e1b59f"
      },
      "execution_count": 27,
      "outputs": [
        {
          "output_type": "stream",
          "name": "stdout",
          "text": [
            "Ingresa un numero:19\n",
            "su numero no es multiplo de 3,4 o 5\n"
          ]
        }
      ]
    },
    {
      "cell_type": "code",
      "source": [
        "#por eso ponga solo ifs\n",
        "#no siempre problemas requieren elifs\n",
        "\n",
        "numero2 = int(input(\"Ingresa un numero:\"))\n",
        "if numero2%3 == 0:\n",
        "  print(\"Su numero es multiplo de 3\")\n",
        "if numero2%4 == 0:\n",
        "  print(\"Su numero es multiplo de 4\")\n",
        "if numero2%5 == 0:\n",
        "  print(\"Su numero es multiplo de 4\")\n",
        "#si pongas un else aqui, solo responde al ultimo if\n",
        "#ponga un else a cada if\n",
        "#o neuvo if\n",
        "if numero2%3!=0 and numero2%4!=0 and numero2%5!=0:\n",
        "  print(\"su numero no es multiplo de 3,4 o 5\")"
      ],
      "metadata": {
        "colab": {
          "base_uri": "https://localhost:8080/"
        },
        "id": "lkGLw26PHSIi",
        "outputId": "0a659643-ecf5-4f14-877e-b0e2d398320e"
      },
      "execution_count": 29,
      "outputs": [
        {
          "output_type": "stream",
          "name": "stdout",
          "text": [
            "Ingresa un numero:13\n",
            "su numero no es multiplo de 3,4 o 5\n"
          ]
        }
      ]
    },
    {
      "cell_type": "code",
      "source": [
        "numero = int(input(\"Ingresa un numero:\"))\n",
        "multiple =\n",
        "residuo = numero%multiple"
      ],
      "metadata": {
        "id": "aR9IUYJCF-3u"
      },
      "execution_count": null,
      "outputs": []
    },
    {
      "cell_type": "code",
      "source": [
        "#escaleno (3 distintos), icoceles (2 iguales, 1 disitno) , equilatero (3 lados iguales)"
      ],
      "metadata": {
        "id": "wjYi9LuQI0nf"
      },
      "execution_count": null,
      "outputs": []
    },
    {
      "cell_type": "code",
      "source": [
        "lado_1 = float(input(\"Ingresa el valor del primer lado de tu triangulo: \"))\n",
        "lado_2 = float(input(\"Ingresa el valor del segundo lado de tu triangulo: \"))\n",
        "lado_3 = float(input(\"Ingresa el valor del tercer lado de tu triangulo: \"))\n",
        "\n",
        "if lado_1 == lado_2 and lado_1 == lado_3 #and lado_2 == lado_3: - no necesitas el resto proque si 1==2 and 1==3 then 2==3 automaticamente\n",
        "  print(\"equilatero\")\n",
        "#elif lado_1 == lado_2 and lado_1 == lado_3 or lado_2 == lado_3 and lado_1 == lado_3 or lado_2==lado_3 and lado_1==lado_2\n",
        "elif lado_1 != lado_2 and lado_1 != lado_3 and lado_2 != lado_3:\n",
        "  print(\"escaleno\")\n",
        "else:\n",
        "  print(\"isoseles\")"
      ],
      "metadata": {
        "colab": {
          "base_uri": "https://localhost:8080/"
        },
        "id": "vFjeG6PNJBKo",
        "outputId": "277914c4-430c-41ad-95df-da1430246688"
      },
      "execution_count": 36,
      "outputs": [
        {
          "output_type": "stream",
          "name": "stdout",
          "text": [
            "Ingresa el valor del primer lado de tu triangulo: 1\n",
            "Ingresa el valor del segundo lado de tu triangulo: 2\n",
            "Ingresa el valor del tercer lado de tu triangulo: 33\n",
            "escaleno\n"
          ]
        }
      ]
    },
    {
      "cell_type": "code",
      "source": [
        "a = int(input(\"Ingrese l1: \"))\n",
        "b = int(input(\"Ingrese l2: \"))\n",
        "c = int(input(\"Ingrese l3: \"))\n",
        "\n",
        "if a+b>c and a+c>b and b+c>a: #el triangulo puede existir\n",
        "  if a==b and a==c:\n",
        "    print(\"equilatero\")\n",
        "  elif a==b or a==c or b==c:\n",
        "    print(\"isosceles\")\n",
        "  else:\n",
        "    print(\"escaleno\")\n",
        "else:\n",
        "  print(\"No es valido\")"
      ],
      "metadata": {
        "colab": {
          "base_uri": "https://localhost:8080/"
        },
        "id": "CktfkAYkFEtu",
        "outputId": "21d8e6fb-8c99-44c0-ae39-76a470f93dc4"
      },
      "execution_count": 38,
      "outputs": [
        {
          "output_type": "stream",
          "name": "stdout",
          "text": [
            "Ingrese l1: 8\n",
            "Ingrese l2: 9\n",
            "Ingrese l3: 8\n",
            "isosceles\n"
          ]
        }
      ]
    }
  ]
}